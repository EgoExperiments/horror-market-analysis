{
 "cells": [
  {
   "cell_type": "code",
   "execution_count": null,
   "metadata": {},
   "outputs": [],
   "source": [
    "import pandas as pd\n",
    "import matplotlib.pyplot as plt\n",
    "import seaborn as sns\n",
    "\n",
    "games_df = pd.read_csv('../data/indie_horror_games_data.csv')\n",
    "\n",
    "# Data Cleaning\n",
    "games_df.dropna(inplace=True)\n",
    "games_df['average_forever'] = games_df['average_forever'].astype(int)\n",
    "games_df['price'] = games_df['price'].astype(float)\n",
    "games_df['reviews'] = games_df['positive'] + games_df['negative']\n",
    "games_df['estimated_revenue'] = games_df['reviews'] * games_df['price']\n",
    "\n",
    "# Data Analysis\n",
    "games_df['review_quantile'] = pd.qcut(games_df['reviews'], 10, labels=False)\n",
    "games_df['revenue_quantile'] = pd.qcut(games_df['estimated_revenue'], 10, labels=False)\n",
    "\n",
    "review_stats = games_df.groupby('review_quantile').agg({\n",
    "    'reviews': ['mean', 'median'],\n",
    "    'estimated_revenue': ['mean', 'median'],\n",
    "    'price': ['mean', 'median']\n",
    "}).reset_index()\n",
    "\n",
    "review_stats.columns = ['review_quantile', 'mean_reviews', 'median_reviews', 'mean_estimated_revenue', 'median_estimated_revenue', 'mean_price', 'median_price']\n",
    "\n",
    "# Data Visualization\n",
    "fig, ax1 = plt.subplots(figsize=(12, 6))\n",
    "\n",
    "color = 'tab:blue'\n",
    "ax1.set_xlabel('Review Quantile')\n",
    "ax1.set_ylabel('Average Reviews', color=color)\n",
    "sns.barplot(x=review_stats['review_quantile'], y=review_stats['mean_reviews'], ax=ax1, color=color)\n",
    "ax1.tick_params(axis='y', labelcolor=color)\n",
    "\n",
    "ax2 = ax1.twinx()\n",
    "color = 'tab:green'\n",
    "ax2.set_ylabel('Average Estimated Revenue', color=color)\n",
    "sns.lineplot(x=review_stats['review_quantile'], y=review_stats['mean_estimated_revenue'], ax=ax2, color=color)\n",
    "ax2.tick_params(axis='y', labelcolor=color)\n",
    "\n",
    "fig.tight_layout()\n",
    "plt.title('Average Reviews and Estimated Revenue by Review Quantile')\n",
    "plt.show()\n"
   ]
  }
 ],
 "metadata": {
  "language_info": {
   "name": "python"
  }
 },
 "nbformat": 4,
 "nbformat_minor": 2
}
